{
 "cells": [
  {
   "cell_type": "code",
   "execution_count": 3,
   "metadata": {},
   "outputs": [
    {
     "name": "stdout",
     "output_type": "stream",
     "text": [
      "                   timestamp   unit_id           unit_type  location_x  \\\n",
      "0        2023-06-13 17:33:18         1               at-st         2.0   \n",
      "1        2023-06-13 17:33:17         2        tie_silencer         4.0   \n",
      "2        2023-06-13 17:33:16         3               at-at         0.0   \n",
      "3        2023-06-13 17:33:15         4        tie_silencer         6.0   \n",
      "4        2023-06-13 17:33:14         5         tie_fighter         0.0   \n",
      "...                      ...       ...                 ...         ...   \n",
      "9999995  2023-02-18 10:26:20   9999996  resistance_soldier         6.0   \n",
      "9999996  2023-02-18 10:26:19   9999997        tie_silencer         8.0   \n",
      "9999997  2023-02-18 10:26:18   9999998         tie_fighter         7.0   \n",
      "9999998  2023-02-18 10:26:17   9999999         tie_fighter         6.0   \n",
      "9999999  2023-02-18 10:26:16  10000000             unknown         NaN   \n",
      "\n",
      "         location_y  destination_x  destination_y    homeworld  \n",
      "0               8.0              1              1  Glee Anselm  \n",
      "1               4.0              0              1    Trandosha  \n",
      "2               3.0              6              1     Corellia  \n",
      "3               1.0              6              9        Shili  \n",
      "4               4.0              9              6   Muunilinst  \n",
      "...             ...            ...            ...          ...  \n",
      "9999995         6.0              1              3      Troiken  \n",
      "9999996         6.0              2              0     Kashyyyk  \n",
      "9999997         7.0              6              4     Kashyyyk  \n",
      "9999998         6.0              8              8        Kalee  \n",
      "9999999         NaN              3              0        Skako  \n",
      "\n",
      "[10000000 rows x 8 columns]\n"
     ]
    }
   ],
   "source": [
    "import pandas as pd\n",
    "\n",
    "df_10m = pd.read_csv('troop_movements10m.csv')\n",
    "# print(df_10m)\n",
    "\n",
    "df_10m['unit_type'] = df_10m['unit_type'].apply(lambda x: 'unknown' if x == 'invalid_unit' else x)\n",
    "print(df_10m)"
   ]
  },
  {
   "cell_type": "code",
   "execution_count": 5,
   "metadata": {},
   "outputs": [
    {
     "name": "stdout",
     "output_type": "stream",
     "text": [
      "                   timestamp   unit_id           unit_type  location_x  \\\n",
      "0        2023-06-13 17:33:18         1               at-st         2.0   \n",
      "1        2023-06-13 17:33:17         2        tie_silencer         4.0   \n",
      "2        2023-06-13 17:33:16         3               at-at         0.0   \n",
      "3        2023-06-13 17:33:15         4        tie_silencer         6.0   \n",
      "4        2023-06-13 17:33:14         5         tie_fighter         0.0   \n",
      "...                      ...       ...                 ...         ...   \n",
      "9999995  2023-02-18 10:26:20   9999996  resistance_soldier         6.0   \n",
      "9999996  2023-02-18 10:26:19   9999997        tie_silencer         8.0   \n",
      "9999997  2023-02-18 10:26:18   9999998         tie_fighter         7.0   \n",
      "9999998  2023-02-18 10:26:17   9999999         tie_fighter         6.0   \n",
      "9999999  2023-02-18 10:26:16  10000000             unknown         6.0   \n",
      "\n",
      "         location_y  destination_x  destination_y    homeworld  \n",
      "0               8.0              1              1  Glee Anselm  \n",
      "1               4.0              0              1    Trandosha  \n",
      "2               3.0              6              1     Corellia  \n",
      "3               1.0              6              9        Shili  \n",
      "4               4.0              9              6   Muunilinst  \n",
      "...             ...            ...            ...          ...  \n",
      "9999995         6.0              1              3      Troiken  \n",
      "9999996         6.0              2              0     Kashyyyk  \n",
      "9999997         7.0              6              4     Kashyyyk  \n",
      "9999998         6.0              8              8        Kalee  \n",
      "9999999         6.0              3              0        Skako  \n",
      "\n",
      "[10000000 rows x 8 columns]\n"
     ]
    }
   ],
   "source": [
    "df_10m['location_x'] = df_10m['location_x'].ffill()\n",
    "df_10m['location_y'] = df_10m['location_y'].ffill()\n",
    "print(df_10m)"
   ]
  },
  {
   "cell_type": "code",
   "execution_count": 12,
   "metadata": {},
   "outputs": [],
   "source": [
    "import pyarrow as pa\n",
    "from pyarrow import parquet as pq\n",
    "\n",
    "table_10m = pa.Table.from_pandas(df_10m)\n",
    "pq.write_table(table_10m, \"troop_movements10m.parquet\")"
   ]
  },
  {
   "cell_type": "code",
   "execution_count": 11,
   "metadata": {},
   "outputs": [],
   "source": [
    "import pickle\n",
    "\n",
    "with open('troop_movements_model.pkl', 'rb') as file:\n",
    "    model = pickle.load(file)"
   ]
  },
  {
   "cell_type": "code",
   "execution_count": 13,
   "metadata": {},
   "outputs": [],
   "source": [
    "df = pq.read_table('troop_movements10m.parquet').to_pandas()\n"
   ]
  },
  {
   "cell_type": "code",
   "execution_count": 14,
   "metadata": {},
   "outputs": [],
   "source": [
    "features = pd.get_dummies(df[['homeworld', 'unit_type']])\n",
    "predictions = model.predict(features)"
   ]
  },
  {
   "cell_type": "code",
   "execution_count": 15,
   "metadata": {},
   "outputs": [
    {
     "name": "stdout",
     "output_type": "stream",
     "text": [
      "                   timestamp   unit_id           unit_type  location_x  \\\n",
      "0        2023-06-13 17:33:18         1               at-st         2.0   \n",
      "1        2023-06-13 17:33:17         2        tie_silencer         4.0   \n",
      "2        2023-06-13 17:33:16         3               at-at         0.0   \n",
      "3        2023-06-13 17:33:15         4        tie_silencer         6.0   \n",
      "4        2023-06-13 17:33:14         5         tie_fighter         0.0   \n",
      "...                      ...       ...                 ...         ...   \n",
      "9999995  2023-02-18 10:26:20   9999996  resistance_soldier         6.0   \n",
      "9999996  2023-02-18 10:26:19   9999997        tie_silencer         8.0   \n",
      "9999997  2023-02-18 10:26:18   9999998         tie_fighter         7.0   \n",
      "9999998  2023-02-18 10:26:17   9999999         tie_fighter         6.0   \n",
      "9999999  2023-02-18 10:26:16  10000000             unknown         6.0   \n",
      "\n",
      "         location_y  destination_x  destination_y    homeworld predictions  \n",
      "0               8.0              1              1  Glee Anselm      empire  \n",
      "1               4.0              0              1    Trandosha      empire  \n",
      "2               3.0              6              1     Corellia      empire  \n",
      "3               1.0              6              9        Shili      empire  \n",
      "4               4.0              9              6   Muunilinst      empire  \n",
      "...             ...            ...            ...          ...         ...  \n",
      "9999995         6.0              1              3      Troiken      empire  \n",
      "9999996         6.0              2              0     Kashyyyk      empire  \n",
      "9999997         7.0              6              4     Kashyyyk  resistance  \n",
      "9999998         6.0              8              8        Kalee  resistance  \n",
      "9999999         6.0              3              0        Skako  resistance  \n",
      "\n",
      "[10000000 rows x 9 columns]\n"
     ]
    }
   ],
   "source": [
    "df[\"predictions\"] = predictions\n",
    "print(df)"
   ]
  }
 ],
 "metadata": {
  "kernelspec": {
   "display_name": "Python 3",
   "language": "python",
   "name": "python3"
  },
  "language_info": {
   "codemirror_mode": {
    "name": "ipython",
    "version": 3
   },
   "file_extension": ".py",
   "mimetype": "text/x-python",
   "name": "python",
   "nbconvert_exporter": "python",
   "pygments_lexer": "ipython3",
   "version": "3.12.3"
  }
 },
 "nbformat": 4,
 "nbformat_minor": 2
}
